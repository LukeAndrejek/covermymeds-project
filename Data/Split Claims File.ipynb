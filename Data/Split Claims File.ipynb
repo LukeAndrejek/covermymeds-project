{
 "cells": [
  {
   "cell_type": "code",
   "execution_count": 24,
   "id": "11bfa5c1",
   "metadata": {},
   "outputs": [],
   "source": [
    "# Split the claims file in half\n",
    "\n",
    "# Import packages\n",
    "import pandas as pd\n",
    "\n",
    "# Load data\n",
    "claims_df = pd.read_csv('dim_claims.csv')\n",
    "\n",
    "# Split dataframe in two\n",
    "split_index = int(len(claims_df)/2) - 1\n",
    "claims_df1 = claims_df.loc[:split_index]\n",
    "claims_df2 = claims_df.loc[split_index+1:]\n",
    "\n",
    "# Save dataframes\n",
    "claims_df1.to_csv('dim_claims_part1.csv')\n",
    "claims_df2.to_csv('dim_claims_part2.csv')"
   ]
  },
  {
   "cell_type": "code",
   "execution_count": null,
   "id": "11f623a3",
   "metadata": {},
   "outputs": [],
   "source": []
  }
 ],
 "metadata": {
  "kernelspec": {
   "display_name": "Python 3 (ipykernel)",
   "language": "python",
   "name": "python3"
  },
  "language_info": {
   "codemirror_mode": {
    "name": "ipython",
    "version": 3
   },
   "file_extension": ".py",
   "mimetype": "text/x-python",
   "name": "python",
   "nbconvert_exporter": "python",
   "pygments_lexer": "ipython3",
   "version": "3.8.12"
  }
 },
 "nbformat": 4,
 "nbformat_minor": 5
}
